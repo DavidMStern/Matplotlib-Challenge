{
 "cells": [
  {
   "cell_type": "markdown",
   "metadata": {},
   "source": [
    "## Observations and Insights"
   ]
  },
  {
   "cell_type": "markdown",
   "metadata": {},
   "source": []
  },
  {
   "cell_type": "markdown",
   "metadata": {},
   "source": [
    "## Dependencies and starter code"
   ]
  },
  {
   "cell_type": "code",
   "execution_count": 1,
   "metadata": {},
   "outputs": [
    {
     "data": {
      "text/html": [
       "<div>\n",
       "<style scoped>\n",
       "    .dataframe tbody tr th:only-of-type {\n",
       "        vertical-align: middle;\n",
       "    }\n",
       "\n",
       "    .dataframe tbody tr th {\n",
       "        vertical-align: top;\n",
       "    }\n",
       "\n",
       "    .dataframe thead th {\n",
       "        text-align: right;\n",
       "    }\n",
       "</style>\n",
       "<table border=\"1\" class=\"dataframe\">\n",
       "  <thead>\n",
       "    <tr style=\"text-align: right;\">\n",
       "      <th></th>\n",
       "      <th>Mouse ID</th>\n",
       "      <th>Drug Regimen</th>\n",
       "      <th>Sex</th>\n",
       "      <th>Age_months</th>\n",
       "      <th>Weight (g)</th>\n",
       "      <th>Timepoint</th>\n",
       "      <th>Tumor Volume (mm3)</th>\n",
       "      <th>Metastatic Sites</th>\n",
       "    </tr>\n",
       "  </thead>\n",
       "  <tbody>\n",
       "    <tr>\n",
       "      <td>0</td>\n",
       "      <td>k403</td>\n",
       "      <td>Ramicane</td>\n",
       "      <td>Male</td>\n",
       "      <td>21</td>\n",
       "      <td>16</td>\n",
       "      <td>0</td>\n",
       "      <td>45.000000</td>\n",
       "      <td>0</td>\n",
       "    </tr>\n",
       "    <tr>\n",
       "      <td>1</td>\n",
       "      <td>k403</td>\n",
       "      <td>Ramicane</td>\n",
       "      <td>Male</td>\n",
       "      <td>21</td>\n",
       "      <td>16</td>\n",
       "      <td>5</td>\n",
       "      <td>38.825898</td>\n",
       "      <td>0</td>\n",
       "    </tr>\n",
       "    <tr>\n",
       "      <td>2</td>\n",
       "      <td>k403</td>\n",
       "      <td>Ramicane</td>\n",
       "      <td>Male</td>\n",
       "      <td>21</td>\n",
       "      <td>16</td>\n",
       "      <td>10</td>\n",
       "      <td>35.014271</td>\n",
       "      <td>1</td>\n",
       "    </tr>\n",
       "    <tr>\n",
       "      <td>3</td>\n",
       "      <td>k403</td>\n",
       "      <td>Ramicane</td>\n",
       "      <td>Male</td>\n",
       "      <td>21</td>\n",
       "      <td>16</td>\n",
       "      <td>15</td>\n",
       "      <td>34.223992</td>\n",
       "      <td>1</td>\n",
       "    </tr>\n",
       "    <tr>\n",
       "      <td>4</td>\n",
       "      <td>k403</td>\n",
       "      <td>Ramicane</td>\n",
       "      <td>Male</td>\n",
       "      <td>21</td>\n",
       "      <td>16</td>\n",
       "      <td>20</td>\n",
       "      <td>32.997729</td>\n",
       "      <td>1</td>\n",
       "    </tr>\n",
       "    <tr>\n",
       "      <td>5</td>\n",
       "      <td>k403</td>\n",
       "      <td>Ramicane</td>\n",
       "      <td>Male</td>\n",
       "      <td>21</td>\n",
       "      <td>16</td>\n",
       "      <td>25</td>\n",
       "      <td>33.464577</td>\n",
       "      <td>1</td>\n",
       "    </tr>\n",
       "    <tr>\n",
       "      <td>6</td>\n",
       "      <td>k403</td>\n",
       "      <td>Ramicane</td>\n",
       "      <td>Male</td>\n",
       "      <td>21</td>\n",
       "      <td>16</td>\n",
       "      <td>30</td>\n",
       "      <td>31.099498</td>\n",
       "      <td>1</td>\n",
       "    </tr>\n",
       "    <tr>\n",
       "      <td>7</td>\n",
       "      <td>k403</td>\n",
       "      <td>Ramicane</td>\n",
       "      <td>Male</td>\n",
       "      <td>21</td>\n",
       "      <td>16</td>\n",
       "      <td>35</td>\n",
       "      <td>26.546993</td>\n",
       "      <td>1</td>\n",
       "    </tr>\n",
       "    <tr>\n",
       "      <td>8</td>\n",
       "      <td>k403</td>\n",
       "      <td>Ramicane</td>\n",
       "      <td>Male</td>\n",
       "      <td>21</td>\n",
       "      <td>16</td>\n",
       "      <td>40</td>\n",
       "      <td>24.365505</td>\n",
       "      <td>1</td>\n",
       "    </tr>\n",
       "    <tr>\n",
       "      <td>9</td>\n",
       "      <td>k403</td>\n",
       "      <td>Ramicane</td>\n",
       "      <td>Male</td>\n",
       "      <td>21</td>\n",
       "      <td>16</td>\n",
       "      <td>45</td>\n",
       "      <td>22.050126</td>\n",
       "      <td>1</td>\n",
       "    </tr>\n",
       "    <tr>\n",
       "      <td>10</td>\n",
       "      <td>s185</td>\n",
       "      <td>Capomulin</td>\n",
       "      <td>Female</td>\n",
       "      <td>3</td>\n",
       "      <td>17</td>\n",
       "      <td>0</td>\n",
       "      <td>45.000000</td>\n",
       "      <td>0</td>\n",
       "    </tr>\n",
       "    <tr>\n",
       "      <td>11</td>\n",
       "      <td>s185</td>\n",
       "      <td>Capomulin</td>\n",
       "      <td>Female</td>\n",
       "      <td>3</td>\n",
       "      <td>17</td>\n",
       "      <td>5</td>\n",
       "      <td>43.878496</td>\n",
       "      <td>0</td>\n",
       "    </tr>\n",
       "    <tr>\n",
       "      <td>12</td>\n",
       "      <td>s185</td>\n",
       "      <td>Capomulin</td>\n",
       "      <td>Female</td>\n",
       "      <td>3</td>\n",
       "      <td>17</td>\n",
       "      <td>10</td>\n",
       "      <td>37.614948</td>\n",
       "      <td>0</td>\n",
       "    </tr>\n",
       "    <tr>\n",
       "      <td>13</td>\n",
       "      <td>s185</td>\n",
       "      <td>Capomulin</td>\n",
       "      <td>Female</td>\n",
       "      <td>3</td>\n",
       "      <td>17</td>\n",
       "      <td>15</td>\n",
       "      <td>38.177232</td>\n",
       "      <td>0</td>\n",
       "    </tr>\n",
       "    <tr>\n",
       "      <td>14</td>\n",
       "      <td>s185</td>\n",
       "      <td>Capomulin</td>\n",
       "      <td>Female</td>\n",
       "      <td>3</td>\n",
       "      <td>17</td>\n",
       "      <td>20</td>\n",
       "      <td>36.866876</td>\n",
       "      <td>0</td>\n",
       "    </tr>\n",
       "  </tbody>\n",
       "</table>\n",
       "</div>"
      ],
      "text/plain": [
       "   Mouse ID Drug Regimen     Sex  Age_months  Weight (g)  Timepoint  \\\n",
       "0      k403     Ramicane    Male          21          16          0   \n",
       "1      k403     Ramicane    Male          21          16          5   \n",
       "2      k403     Ramicane    Male          21          16         10   \n",
       "3      k403     Ramicane    Male          21          16         15   \n",
       "4      k403     Ramicane    Male          21          16         20   \n",
       "5      k403     Ramicane    Male          21          16         25   \n",
       "6      k403     Ramicane    Male          21          16         30   \n",
       "7      k403     Ramicane    Male          21          16         35   \n",
       "8      k403     Ramicane    Male          21          16         40   \n",
       "9      k403     Ramicane    Male          21          16         45   \n",
       "10     s185    Capomulin  Female           3          17          0   \n",
       "11     s185    Capomulin  Female           3          17          5   \n",
       "12     s185    Capomulin  Female           3          17         10   \n",
       "13     s185    Capomulin  Female           3          17         15   \n",
       "14     s185    Capomulin  Female           3          17         20   \n",
       "\n",
       "    Tumor Volume (mm3)  Metastatic Sites  \n",
       "0            45.000000                 0  \n",
       "1            38.825898                 0  \n",
       "2            35.014271                 1  \n",
       "3            34.223992                 1  \n",
       "4            32.997729                 1  \n",
       "5            33.464577                 1  \n",
       "6            31.099498                 1  \n",
       "7            26.546993                 1  \n",
       "8            24.365505                 1  \n",
       "9            22.050126                 1  \n",
       "10           45.000000                 0  \n",
       "11           43.878496                 0  \n",
       "12           37.614948                 0  \n",
       "13           38.177232                 0  \n",
       "14           36.866876                 0  "
      ]
     },
     "execution_count": 1,
     "metadata": {},
     "output_type": "execute_result"
    }
   ],
   "source": [
    "# Import dependencies\n",
    "import matplotlib.pyplot as plt\n",
    "import pandas as pd\n",
    "import scipy.stats as st\n",
    "\n",
    "# Import data from CSV files\n",
    "mouse_data = \"data/Mouse_metadata.csv\"\n",
    "study_results = \"data/Study_results.csv\"\n",
    "\n",
    "# Read imported data to dataframes\n",
    "mouse_df = pd.read_csv(mouse_data)\n",
    "study_df = pd.read_csv(study_results)\n",
    "\n",
    "# Combine the data into a single dataset\n",
    "full_mouse_data = pd.merge(mouse_df, study_df, on=['Mouse ID','Mouse ID'])\n",
    "full_mouse_data.head(15)"
   ]
  },
  {
   "cell_type": "markdown",
   "metadata": {},
   "source": [
    "## Summary statistics"
   ]
  },
  {
   "cell_type": "code",
   "execution_count": 2,
   "metadata": {},
   "outputs": [
    {
     "data": {
      "text/html": [
       "<div>\n",
       "<style scoped>\n",
       "    .dataframe tbody tr th:only-of-type {\n",
       "        vertical-align: middle;\n",
       "    }\n",
       "\n",
       "    .dataframe tbody tr th {\n",
       "        vertical-align: top;\n",
       "    }\n",
       "\n",
       "    .dataframe thead th {\n",
       "        text-align: right;\n",
       "    }\n",
       "</style>\n",
       "<table border=\"1\" class=\"dataframe\">\n",
       "  <thead>\n",
       "    <tr style=\"text-align: right;\">\n",
       "      <th></th>\n",
       "      <th>Mean</th>\n",
       "      <th>Median</th>\n",
       "      <th>Variance</th>\n",
       "      <th>Standard Deviation</th>\n",
       "      <th>SEM</th>\n",
       "    </tr>\n",
       "    <tr>\n",
       "      <th>Drug Regimen</th>\n",
       "      <th></th>\n",
       "      <th></th>\n",
       "      <th></th>\n",
       "      <th></th>\n",
       "      <th></th>\n",
       "    </tr>\n",
       "  </thead>\n",
       "  <tbody>\n",
       "    <tr>\n",
       "      <td>Ramicane</td>\n",
       "      <td>40.216745</td>\n",
       "      <td>40.673236</td>\n",
       "      <td>23.486704</td>\n",
       "      <td>4.846308</td>\n",
       "      <td>0.320955</td>\n",
       "    </tr>\n",
       "    <tr>\n",
       "      <td>Capomulin</td>\n",
       "      <td>40.675741</td>\n",
       "      <td>41.557809</td>\n",
       "      <td>24.947764</td>\n",
       "      <td>4.994774</td>\n",
       "      <td>0.329346</td>\n",
       "    </tr>\n",
       "    <tr>\n",
       "      <td>Infubinol</td>\n",
       "      <td>52.884795</td>\n",
       "      <td>51.820584</td>\n",
       "      <td>43.128684</td>\n",
       "      <td>6.567243</td>\n",
       "      <td>0.492236</td>\n",
       "    </tr>\n",
       "    <tr>\n",
       "      <td>Placebo</td>\n",
       "      <td>54.033581</td>\n",
       "      <td>52.288934</td>\n",
       "      <td>61.168083</td>\n",
       "      <td>7.821003</td>\n",
       "      <td>0.581331</td>\n",
       "    </tr>\n",
       "    <tr>\n",
       "      <td>Ceftamin</td>\n",
       "      <td>52.591172</td>\n",
       "      <td>51.776157</td>\n",
       "      <td>39.290177</td>\n",
       "      <td>6.268188</td>\n",
       "      <td>0.469821</td>\n",
       "    </tr>\n",
       "    <tr>\n",
       "      <td>Stelasyn</td>\n",
       "      <td>54.233149</td>\n",
       "      <td>52.431737</td>\n",
       "      <td>59.450562</td>\n",
       "      <td>7.710419</td>\n",
       "      <td>0.573111</td>\n",
       "    </tr>\n",
       "    <tr>\n",
       "      <td>Zoniferol</td>\n",
       "      <td>53.236507</td>\n",
       "      <td>51.818479</td>\n",
       "      <td>48.533355</td>\n",
       "      <td>6.966589</td>\n",
       "      <td>0.516398</td>\n",
       "    </tr>\n",
       "    <tr>\n",
       "      <td>Ketapril</td>\n",
       "      <td>55.235638</td>\n",
       "      <td>53.698743</td>\n",
       "      <td>68.553577</td>\n",
       "      <td>8.279709</td>\n",
       "      <td>0.603860</td>\n",
       "    </tr>\n",
       "    <tr>\n",
       "      <td>Propriva</td>\n",
       "      <td>52.322552</td>\n",
       "      <td>50.854632</td>\n",
       "      <td>42.351070</td>\n",
       "      <td>6.507770</td>\n",
       "      <td>0.512884</td>\n",
       "    </tr>\n",
       "    <tr>\n",
       "      <td>Naftisol</td>\n",
       "      <td>54.331565</td>\n",
       "      <td>52.509285</td>\n",
       "      <td>66.173479</td>\n",
       "      <td>8.134708</td>\n",
       "      <td>0.596466</td>\n",
       "    </tr>\n",
       "  </tbody>\n",
       "</table>\n",
       "</div>"
      ],
      "text/plain": [
       "                   Mean     Median   Variance  Standard Deviation       SEM\n",
       "Drug Regimen                                                               \n",
       "Ramicane      40.216745  40.673236  23.486704            4.846308  0.320955\n",
       "Capomulin     40.675741  41.557809  24.947764            4.994774  0.329346\n",
       "Infubinol     52.884795  51.820584  43.128684            6.567243  0.492236\n",
       "Placebo       54.033581  52.288934  61.168083            7.821003  0.581331\n",
       "Ceftamin      52.591172  51.776157  39.290177            6.268188  0.469821\n",
       "Stelasyn      54.233149  52.431737  59.450562            7.710419  0.573111\n",
       "Zoniferol     53.236507  51.818479  48.533355            6.966589  0.516398\n",
       "Ketapril      55.235638  53.698743  68.553577            8.279709  0.603860\n",
       "Propriva      52.322552  50.854632  42.351070            6.507770  0.512884\n",
       "Naftisol      54.331565  52.509285  66.173479            8.134708  0.596466"
      ]
     },
     "execution_count": 2,
     "metadata": {},
     "output_type": "execute_result"
    }
   ],
   "source": [
    "# Generate a summary statistics table of mean, median, variance, standard deviation, and SEM of the tumor volume for each regimen\n",
    "# Making groupby object on Drug Regimen\n",
    "regimen_group = full_mouse_data.groupby(['Drug Regimen'], sort=False)\n",
    "\n",
    "# Set up summary table starting with mean\n",
    "reg_summary = pd.DataFrame(regimen_group['Tumor Volume (mm3)'].mean())\n",
    "reg_summary.rename(columns={'Tumor Volume (mm3)':'Mean'}, inplace=True)\n",
    "\n",
    "# Define median, variance, standard deviation, and Sem tables\n",
    "reg_median = pd.DataFrame(regimen_group['Tumor Volume (mm3)'].median())\n",
    "reg_var = pd.DataFrame(regimen_group['Tumor Volume (mm3)'].var())\n",
    "reg_std = pd.DataFrame(regimen_group['Tumor Volume (mm3)'].std())\n",
    "reg_sem = pd.DataFrame(regimen_group['Tumor Volume (mm3)'].sem())\n",
    "\n",
    "# Merging each stat into the table and renaming the columns\n",
    "reg_summary = reg_summary.merge(reg_median, on='Drug Regimen', how='outer')\n",
    "reg_summary.rename(columns={'Tumor Volume (mm3)':'Median'}, inplace=True)\n",
    "reg_summary = reg_summary.merge(reg_var, on='Drug Regimen', how='outer')\n",
    "reg_summary.rename(columns={'Tumor Volume (mm3)':'Variance'}, inplace=True)\n",
    "reg_summary = reg_summary.merge(reg_std, on='Drug Regimen', how='outer')\n",
    "reg_summary.rename(columns={'Tumor Volume (mm3)':'Standard Deviation'}, inplace=True)\n",
    "reg_summary = reg_summary.merge(reg_sem, on='Drug Regimen', how='outer')\n",
    "reg_summary.rename(columns={'Tumor Volume (mm3)':'SEM'}, inplace=True)\n",
    "reg_summary"
   ]
  },
  {
   "cell_type": "markdown",
   "metadata": {},
   "source": [
    "## Bar plots"
   ]
  },
  {
   "cell_type": "code",
   "execution_count": 93,
   "metadata": {},
   "outputs": [
    {
     "data": {
      "text/plain": [
       "Text(0.5, 0, 'Drug Regimens')"
      ]
     },
     "execution_count": 93,
     "metadata": {},
     "output_type": "execute_result"
    },
    {
     "data": {
      "image/png": "[encoded data removed]",
      "text/plain": [
       "<Figure size 720x360 with 1 Axes>"
      ]
     },
     "metadata": {
      "needs_background": "light"
     },
     "output_type": "display_data"
    }
   ],
   "source": [
    "# Generate a bar plot showing number of data points for each treatment regimen using pandas\n",
    "id_count = pd.DataFrame(regimen_group['Mouse ID'].count())\n",
    "id_count.plot(kind='bar', figsize=(10,5))\n",
    "plt.title('Datapoints per Drug Regimen')\n",
    "plt.xlabel('Drug Regimens')"
   ]
  },
  {
   "cell_type": "code",
   "execution_count": 89,
   "metadata": {},
   "outputs": [
    {
     "data": {
      "text/plain": [
       "<function matplotlib.pyplot.show(*args, **kw)>"
      ]
     },
     "execution_count": 89,
     "metadata": {},
     "output_type": "execute_result"
    },
    {
     "data": {
      "image/png": "[encoded data removed]",
      "text/plain": [
       "<Figure size 720x360 with 1 Axes>"
      ]
     },
     "metadata": {
      "needs_background": "light"
     },
     "output_type": "display_data"
    }
   ],
   "source": [
    "# Generate a bar plot showing number of data points for each treatment regimen using pyplot\n",
    "drug_regimens = full_mouse_data['Drug Regimen'].unique()\n",
    "reg_count = regimen_group['Tumor Volume (mm3)'].count()\n",
    "\n",
    "plt.figure(figsize=(10,5))\n",
    "plt.bar(drug_regimens, reg_count)\n",
    "plt.title('Datapoints per Drug Regimen')\n",
    "plt.xlabel('Dreug Regimens')\n",
    "plt.xticks(rotation=45)\n",
    "plt.show"
   ]
  },
  {
   "cell_type": "markdown",
   "metadata": {},
   "source": [
    "## Pie plots"
   ]
  },
  {
   "cell_type": "code",
   "execution_count": 86,
   "metadata": {},
   "outputs": [
    {
     "data": {
      "text/plain": [
       "Text(0.5, 1.0, 'Male to Female ratio')"
      ]
     },
     "execution_count": 86,
     "metadata": {},
     "output_type": "execute_result"
    },
    {
     "data": {
      "image/png": "[encoded data removed]",
      "text/plain": [
       "<Figure size 432x288 with 1 Axes>"
      ]
     },
     "metadata": {},
     "output_type": "display_data"
    }
   ],
   "source": [
    "# Generate a pie plot showing the distribution of female versus male mice using pandas\n",
    "only_once = full_mouse_data.drop_duplicates('Mouse ID')\n",
    "individual_group = only_once.groupby(['Sex'])\n",
    "mf = individual_group.count()\n",
    "\n",
    "mf.plot.pie(y='Mouse ID', autopct='%.2f%%')\n",
    "plt.title('Male to Female ratio')"
   ]
  },
  {
   "cell_type": "code",
   "execution_count": 85,
   "metadata": {},
   "outputs": [
    {
     "data": {
      "image/png": "[encoded data removed]",
      "text/plain": [
       "<Figure size 432x288 with 1 Axes>"
      ]
     },
     "metadata": {},
     "output_type": "display_data"
    }
   ],
   "source": [
    "# Generate a pie plot showing the distribution of female versus male mice using pyplot\n",
    "plt.pie(mf['Mouse ID'], labels=mf.index,autopct='%.2f%%')\n",
    "plt.title('Male to Female ratio')\n",
    "plt.show()"
   ]
  },
  {
   "cell_type": "markdown",
   "metadata": {},
   "source": [
    "## Quartiles, outliers and boxplots"
   ]
  },
  {
   "cell_type": "code",
   "execution_count": 84,
   "metadata": {},
   "outputs": [
    {
     "name": "stdout",
     "output_type": "stream",
     "text": [
      "IQRs are as follows\n",
      "Capomulin: 7.781863460000004\n",
      "Ramicane: 9.098536719999998\n",
      "Infubinol: 11.477135160000003\n",
      "Ceftamin: 15.577752179999997\n",
      "\n",
      "Ouliers are: ['c326']\n"
     ]
    }
   ],
   "source": [
    "# Calculate the final tumor volume of each mouse across four of the most promising treatment regimens. \n",
    "\n",
    "# Dataframe for top four keeping only last timepoints\n",
    "top = full_mouse_data.loc[(full_mouse_data['Drug Regimen']=='Capomulin')|(full_mouse_data['Drug Regimen']=='Ramicane')|(full_mouse_data['Drug Regimen']=='Infubinol')|(full_mouse_data['Drug Regimen']=='Ceftamin'), :]\n",
    "top_finals = top.drop_duplicates('Mouse ID', keep='last')\n",
    "\n",
    "# Defining dataframes for each drug\n",
    "cap_finals = top_finals.loc[top_finals['Drug Regimen']=='Capomulin', :]\n",
    "ram_finals = top_finals.loc[top_finals['Drug Regimen']=='Ramicane', :]\n",
    "inf_finals = top_finals.loc[top_finals['Drug Regimen']=='Infubinol', :]\n",
    "cef_finals = top_finals.loc[top_finals['Drug Regimen']=='Ceftamin', :]\n",
    "\n",
    "# Calculate the IQR and quantitatively determine if there are any potential outliers. \n",
    "# Defining quartiles, iqr, and bounds for each drug\n",
    "cap_lq = cap_finals['Tumor Volume (mm3)'].quantile(.25)\n",
    "cap_uq = cap_finals['Tumor Volume (mm3)'].quantile(.75)\n",
    "cap_iqr = cap_uq-cap_lq\n",
    "cap_lb = cap_lq - (1.5 * cap_iqr)\n",
    "cap_ub = cap_uq + (1.5 * cap_iqr)\n",
    "\n",
    "ram_lq = ram_finals['Tumor Volume (mm3)'].quantile(.25)\n",
    "ram_uq = ram_finals['Tumor Volume (mm3)'].quantile(.75)\n",
    "ram_iqr = ram_uq-ram_lq\n",
    "ram_lb = ram_lq - (1.5 * ram_iqr)\n",
    "ram_ub = ram_uq + (1.5 * ram_iqr)\n",
    "\n",
    "inf_lq = inf_finals['Tumor Volume (mm3)'].quantile(.25)\n",
    "inf_uq = inf_finals['Tumor Volume (mm3)'].quantile(.75)\n",
    "inf_iqr = inf_uq-inf_lq\n",
    "inf_lb = inf_lq - (1.5 * inf_iqr)\n",
    "inf_ub = inf_uq + (1.5 * inf_iqr)\n",
    "\n",
    "cef_lq = cef_finals['Tumor Volume (mm3)'].quantile(.25)\n",
    "cef_uq = cef_finals['Tumor Volume (mm3)'].quantile(.75)\n",
    "cef_iqr = cef_uq-cef_lq\n",
    "cef_lb = cef_lq - (1.5 * cef_iqr)\n",
    "cef_ub = cef_uq + (1.5 * cef_iqr)\n",
    "\n",
    "# Printing IQRs\n",
    "print(f'''IQRs are as follows\n",
    "Capomulin: {cap_iqr}\n",
    "Ramicane: {ram_iqr}\n",
    "Infubinol: {inf_iqr}\n",
    "Ceftamin: {cef_iqr}\n",
    "''')\n",
    "\n",
    "# Determining and printing outliers\n",
    "cap_out = cap_finals.loc[(cap_finals['Tumor Volume (mm3)'] > cap_ub)|(cap_finals['Tumor Volume (mm3)'] < cap_lb), :]\n",
    "ram_out = ram_finals.loc[(ram_finals['Tumor Volume (mm3)'] > ram_ub)|(ram_finals['Tumor Volume (mm3)'] < ram_lb), :]\n",
    "inf_out = inf_finals.loc[(inf_finals['Tumor Volume (mm3)'] > inf_ub)|(inf_finals['Tumor Volume (mm3)'] < inf_lb), :]\n",
    "cef_out = cef_finals.loc[(cef_finals['Tumor Volume (mm3)'] > cef_ub)|(cef_finals['Tumor Volume (mm3)'] < cef_lb), :]\n",
    "outliers = inf_out['Mouse ID'].tolist()\n",
    "print(f\"Ouliers are: {outliers}\")"
   ]
  },
  {
   "cell_type": "code",
   "execution_count": 10,
   "metadata": {},
   "outputs": [
    {
     "data": {
      "text/plain": [
       "<matplotlib.axes._subplots.AxesSubplot at 0x1add1bda1c8>"
      ]
     },
     "execution_count": 10,
     "metadata": {},
     "output_type": "execute_result"
    },
    {
     "data": {
      "image/png": "[encoded data removed]",
      "text/plain": [
       "<Figure size 720x720 with 1 Axes>"
      ]
     },
     "metadata": {
      "needs_background": "light"
     },
     "output_type": "display_data"
    }
   ],
   "source": [
    "# Generate a box plot of the final tumor volume of each mouse across four regimens of interest\n",
    "top_finals.boxplot(by='Drug Regimen', column='Tumor Volume (mm3)', sym='r',figsize=(10,10))"
   ]
  },
  {
   "cell_type": "markdown",
   "metadata": {},
   "source": [
    "## Line and scatter plots"
   ]
  },
  {
   "cell_type": "code",
   "execution_count": 95,
   "metadata": {},
   "outputs": [
    {
     "data": {
      "text/plain": [
       "<matplotlib.legend.Legend at 0x1add567ec88>"
      ]
     },
     "execution_count": 95,
     "metadata": {},
     "output_type": "execute_result"
    },
    {
     "data": {
      "image/png": "[encoded data removed]",
      "text/plain": [
       "<Figure size 720x360 with 1 Axes>"
      ]
     },
     "metadata": {
      "needs_background": "light"
     },
     "output_type": "display_data"
    }
   ],
   "source": [
    "# Generate a line plot of time point versus tumor volume for a mouse treated with Capomulin\n",
    "capomulin = full_mouse_data.loc[full_mouse_data['Drug Regimen']=='Capomulin', :]\n",
    "s185 = capomulin.loc[capomulin['Mouse ID']=='s185', :]\n",
    "s185\n",
    "\n",
    "plt.figure(figsize=(10,5))\n",
    "xaxis = s185['Timepoint']\n",
    "yaxis = s185['Tumor Volume (mm3)']\n",
    "plt.plot(xaxis, yaxis, color='purple', label='Capomulin')\n",
    "plt.title('s185 Tumor Volume Treatment')\n",
    "plt.xlabel('Timepoints')\n",
    "plt.ylabel('Tumor Volume (mm3)')\n",
    "plt.legend()"
   ]
  },
  {
   "cell_type": "code",
   "execution_count": 96,
   "metadata": {},
   "outputs": [
    {
     "data": {
      "image/png": "[encoded data removed]",
      "text/plain": [
       "<Figure size 720x360 with 1 Axes>"
      ]
     },
     "metadata": {
      "needs_background": "light"
     },
     "output_type": "display_data"
    },
    {
     "name": "stdout",
     "output_type": "stream",
     "text": [
      "Correlation is 0.526\n"
     ]
    }
   ],
   "source": [
    "# Generate a scatter plot of mouse weight versus average tumor volume for the Capomulin regimen\n",
    "\n",
    "# Set x and x axis\n",
    "scatter_x = capomulin['Weight (g)']\n",
    "scatter_y = capomulin['Tumor Volume (mm3)']\n",
    "\n",
    "# Plot scatter\n",
    "plt.figure(figsize=(10,5))\n",
    "plt.scatter(scatter_x, scatter_y, facecolors='purple', edgecolors='red')\n",
    "plt.title('Mouse weight vs average tumor volume')\n",
    "plt.xlabel('Weight (g)')\n",
    "plt.ylabel('Tumor Volume (mm3)')\n",
    "\n",
    "# Calculate the correlation coefficient and linear regression model for mouse weight and average tumor volume for the Capomulin regimen\n",
    "c_slope, c_int, c_r, c_p, c_std_err = st.linregress(scatter_x, scatter_y)\n",
    "c_fit = c_slope * scatter_x + c_int\n",
    "regress_line = f\"y={round(c_slope, 3)}x+{round(c_int, 3)}\"\n",
    "\n",
    "plt.plot(scatter_x,c_fit,\"--\", color='purple')\n",
    "plt.xticks(scatter_x, rotation=90)\n",
    "plt.annotate(regress_line, xy=(21, 30), fontsize=16, color='purple')\n",
    "plt.show()\n",
    "\n",
    "corr = st.pearsonr(scatter_x, scatter_y)\n",
    "print(f\"Correlation is {round(corr[0], 3)}\")"
   ]
  },
  {
   "cell_type": "code",
   "execution_count": null,
   "metadata": {},
   "outputs": [],
   "source": []
  }
 ],
 "metadata": {
  "anaconda-cloud": {},
  "kernelspec": {
   "display_name": "Python 3",
   "language": "python",
   "name": "python3"
  },
  "language_info": {
   "codemirror_mode": {
    "name": "ipython",
    "version": 3
   },
   "file_extension": ".py",
   "mimetype": "text/x-python",
   "name": "python",
   "nbconvert_exporter": "python",
   "pygments_lexer": "ipython3",
   "version": "3.7.4"
  }
 },
 "nbformat": 4,
 "nbformat_minor": 2
}
